{
 "cells": [
  {
   "cell_type": "code",
   "execution_count": 1,
   "id": "68bee589-331a-4ecc-985f-6d7bd270b884",
   "metadata": {},
   "outputs": [],
   "source": [
    "import mlproject"
   ]
  },
  {
   "cell_type": "code",
   "execution_count": 2,
   "id": "e64d6a56-bd4b-4093-b367-7de5799ad7ee",
   "metadata": {},
   "outputs": [],
   "source": [
    "from mlproject.distance import haversine\n"
   ]
  },
  {
   "cell_type": "code",
   "execution_count": null,
   "id": "c7466584-008d-4dd3-97e4-d0eb54308480",
   "metadata": {},
   "outputs": [],
   "source": []
  }
 ],
 "metadata": {
  "kernelspec": {
   "display_name": "Python 3",
   "language": "python",
   "name": "python3"
  },
  "language_info": {
   "codemirror_mode": {
    "name": "ipython",
    "version": 3
   },
   "file_extension": ".py",
   "mimetype": "text/x-python",
   "name": "python",
   "nbconvert_exporter": "python",
   "pygments_lexer": "ipython3",
   "version": "3.7.7"
  }
 },
 "nbformat": 4,
 "nbformat_minor": 5
}
